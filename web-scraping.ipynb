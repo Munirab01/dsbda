{
  "nbformat": 4,
  "nbformat_minor": 0,
  "metadata": {
    "colab": {
      "provenance": []
    },
    "kernelspec": {
      "name": "python3",
      "display_name": "Python 3"
    },
    "language_info": {
      "name": "python"
    }
  },
  "cells": [
    {
      "cell_type": "code",
      "execution_count": 6,
      "metadata": {
        "id": "5dP1hMH3KYVZ"
      },
      "outputs": [],
      "source": [
        "import requests\n",
        "from bs4 import BeautifulSoup"
      ]
    },
    {
      "cell_type": "code",
      "source": [
        "request1 = requests.get('https://www.scrapingcourse.com/ecommerce/')\n",
        "\n",
        "request1"
      ],
      "metadata": {
        "colab": {
          "base_uri": "https://localhost:8080/"
        },
        "id": "x3s-GejILAm1",
        "outputId": "c151dc27-1a6e-48dd-e820-170a6be45a59"
      },
      "execution_count": 3,
      "outputs": [
        {
          "output_type": "execute_result",
          "data": {
            "text/plain": [
              "<Response [200]>"
            ]
          },
          "metadata": {},
          "execution_count": 3
        }
      ]
    },
    {
      "cell_type": "code",
      "source": [
        "soup = BeautifulSoup(request1.content, 'html.parser')\n"
      ],
      "metadata": {
        "id": "BLZ5TAM8LcCV"
      },
      "execution_count": 7,
      "outputs": []
    },
    {
      "cell_type": "code",
      "source": [
        "products = soup.find_all(\"li\", class_=\"product\")"
      ],
      "metadata": {
        "id": "qUzOE5XqLtl6"
      },
      "execution_count": 8,
      "outputs": []
    },
    {
      "cell_type": "code",
      "source": [
        "for index, product in enumerate(products, 1):\n",
        "    print(f\"Product {index}:\")\n",
        "    title_tag = product.find(\"h2\", class_=\"woocommerce-loop-product__title\")\n",
        "    title = title_tag.text.strip() if title_tag else \"No title found\"\n",
        "\n",
        "    product_link = product.find(\"a\", class_=\"woocommerce-LoopProduct-link woocommerce-loop-product__link\")\n",
        "    product_link_href = product_link[\"href\"] if product_link else \"No Link found\"\n",
        "\n",
        "    img_tag = product.find(\"img\")\n",
        "    img_url = img_tag[\"src\"] if img_tag and img_tag.has_attr(\"src\") else \"No image found\"\n",
        "\n",
        "    price_tag = product.find(\"span\", class_=\"woocommerce-Price-amount\")\n",
        "    price = price_tag.text.strip() if price_tag else \"No price found\"\n",
        "\n",
        "    request1_prod = requests.get(product_link_href)\n",
        "\n",
        "    print(f\"Title: {title}\\nLink: {product_link_href}\\nImage: {img_url}\\nPrice: {price}\\n\")"
      ],
      "metadata": {
        "colab": {
          "base_uri": "https://localhost:8080/"
        },
        "id": "QtV87Z_3LwDW",
        "outputId": "1707175c-dcff-4cc1-c9a2-21333e029cd1"
      },
      "execution_count": 21,
      "outputs": [
        {
          "output_type": "stream",
          "name": "stdout",
          "text": [
            "Product 1:\n",
            "Title: Abominable Hoodie\n",
            "Link: https://www.scrapingcourse.com/ecommerce/product/abominable-hoodie/\n",
            "Image: https://www.scrapingcourse.com/ecommerce/wp-content/uploads/2024/03/mh09-blue_main.jpg\n",
            "Price: $69.00\n",
            "\n",
            "Product 2:\n",
            "Title: Adrienne Trek Jacket\n",
            "Link: https://www.scrapingcourse.com/ecommerce/product/adrienne-trek-jacket/\n",
            "Image: https://www.scrapingcourse.com/ecommerce/wp-content/uploads/2024/03/wj08-gray_main.jpg\n",
            "Price: $57.00\n",
            "\n",
            "Product 3:\n",
            "Title: Aeon Capri\n",
            "Link: https://www.scrapingcourse.com/ecommerce/product/aeon-capri/\n",
            "Image: https://www.scrapingcourse.com/ecommerce/wp-content/uploads/2024/03/wp07-black_main.jpg\n",
            "Price: $48.00\n",
            "\n",
            "Product 4:\n",
            "Title: Aero Daily Fitness Tee\n",
            "Link: https://www.scrapingcourse.com/ecommerce/product/aero-daily-fitness-tee/\n",
            "Image: https://www.scrapingcourse.com/ecommerce/wp-content/uploads/2024/03/ms01-blue_main.jpg\n",
            "Price: $24.00\n",
            "\n",
            "Product 5:\n",
            "Title: Aether Gym Pant\n",
            "Link: https://www.scrapingcourse.com/ecommerce/product/aether-gym-pant/\n",
            "Image: https://www.scrapingcourse.com/ecommerce/wp-content/uploads/2024/03/mp11-brown_main.jpg\n",
            "Price: $74.00\n",
            "\n",
            "Product 6:\n",
            "Title: Affirm Water Bottle\n",
            "Link: https://www.scrapingcourse.com/ecommerce/product/affirm-water-bottle/\n",
            "Image: https://www.scrapingcourse.com/ecommerce/wp-content/uploads/2024/03/ug06-lb-0.jpg\n",
            "Price: $7.00\n",
            "\n",
            "Product 7:\n",
            "Title: Aim Analog Watch\n",
            "Link: https://www.scrapingcourse.com/ecommerce/product/aim-analog-watch/\n",
            "Image: https://www.scrapingcourse.com/ecommerce/wp-content/uploads/2024/03/mg04-bk-0.jpg\n",
            "Price: $45.00\n",
            "\n",
            "Product 8:\n",
            "Title: Ajax Full-Zip Sweatshirt\n",
            "Link: https://www.scrapingcourse.com/ecommerce/product/ajax-full-zip-sweatshirt/\n",
            "Image: https://www.scrapingcourse.com/ecommerce/wp-content/uploads/2024/03/mh12-green_main.jpg\n",
            "Price: $69.00\n",
            "\n",
            "Product 9:\n",
            "Title: Ana Running Short\n",
            "Link: https://www.scrapingcourse.com/ecommerce/product/ana-running-short/\n",
            "Image: https://www.scrapingcourse.com/ecommerce/wp-content/uploads/2024/03/wsh10-black_main.jpg\n",
            "Price: $40.00\n",
            "\n",
            "Product 10:\n",
            "Title: Angel Light Running Short\n",
            "Link: https://www.scrapingcourse.com/ecommerce/product/angel-light-running-short/\n",
            "Image: https://www.scrapingcourse.com/ecommerce/wp-content/uploads/2024/03/wsh06-gray_main.jpg\n",
            "Price: $42.00\n",
            "\n",
            "Product 11:\n",
            "Title: Antonia Racer Tank\n",
            "Link: https://www.scrapingcourse.com/ecommerce/product/antonia-racer-tank/\n",
            "Image: https://www.scrapingcourse.com/ecommerce/wp-content/uploads/2024/03/wt08-black_main.jpg\n",
            "Price: $34.00\n",
            "\n",
            "Product 12:\n",
            "Title: Apollo Running Short\n",
            "Link: https://www.scrapingcourse.com/ecommerce/product/apollo-running-short/\n",
            "Image: https://www.scrapingcourse.com/ecommerce/wp-content/uploads/2024/03/msh02-black_main.jpg\n",
            "Price: $32.50\n",
            "\n",
            "Product 13:\n",
            "Title: Arcadio Gym Short\n",
            "Link: https://www.scrapingcourse.com/ecommerce/product/arcadio-gym-short/\n",
            "Image: https://www.scrapingcourse.com/ecommerce/wp-content/uploads/2024/03/msh11-blue_main.jpg\n",
            "Price: $20.00\n",
            "\n",
            "Product 14:\n",
            "Title: Argus All-Weather Tank\n",
            "Link: https://www.scrapingcourse.com/ecommerce/product/argus-all-weather-tank/\n",
            "Image: https://www.scrapingcourse.com/ecommerce/wp-content/uploads/2024/03/mt07-gray_main.jpg\n",
            "Price: $22.00\n",
            "\n",
            "Product 15:\n",
            "Title: Ariel Roll Sleeve Sweatshirt\n",
            "Link: https://www.scrapingcourse.com/ecommerce/product/ariel-roll-sleeve-sweatshirt/\n",
            "Image: https://www.scrapingcourse.com/ecommerce/wp-content/uploads/2024/03/wh09-purple_main.jpg\n",
            "Price: $39.00\n",
            "\n",
            "Product 16:\n",
            "Title: Artemis Running Short\n",
            "Link: https://www.scrapingcourse.com/ecommerce/product/artemis-running-short/\n",
            "Image: https://www.scrapingcourse.com/ecommerce/wp-content/uploads/2024/03/wsh04-black_main.jpg\n",
            "Price: $45.00\n",
            "\n"
          ]
        }
      ]
    }
  ]
}